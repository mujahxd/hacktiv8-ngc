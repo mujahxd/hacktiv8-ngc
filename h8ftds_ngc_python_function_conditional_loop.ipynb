{
 "cells": [
  {
   "cell_type": "markdown",
   "id": "c373cbfb",
   "metadata": {},
   "source": [
    "## TASK 1 - Number of Word\n",
    "__Instruction:__ <br>\n",
    "1.Create function called `number_of_word`. <br>\n",
    "2.This function takes 1 input, `sentence`. <br>\n",
    "3.Inside this function, you can utilize `.split()` method to split the sentence into list of word(s). <br>\n",
    "4.Also, `len()` function to count the element inside a list. <br>\n",
    "5.Return the number of word from the sentence. <br>"
   ]
  },
  {
   "cell_type": "code",
   "execution_count": 2,
   "id": "733b0061",
   "metadata": {},
   "outputs": [],
   "source": [
    "def number_of_word(sentence):\n",
    "    return len(sentence.split())"
   ]
  },
  {
   "cell_type": "code",
   "execution_count": 3,
   "id": "9f2c5379",
   "metadata": {},
   "outputs": [
    {
     "name": "stdout",
     "output_type": "stream",
     "text": [
      "2\n",
      "8\n"
     ]
    }
   ],
   "source": [
    "print(number_of_word(sentence='Hello World!'))\n",
    "print(number_of_word(sentence='Once Upon a Time in a faraway land'))"
   ]
  },
  {
   "cell_type": "markdown",
   "id": "223c9229",
   "metadata": {},
   "source": [
    "## TASK 2 - Find Multiple\n",
    "Instruction:<br>\n",
    "1.Create function called `find_multiples`.<br>\n",
    "2.This function takes 3 input: `start_range`, `end_range`, and `multiple`.<br>\n",
    "3.From every number within the given range, check if that number is the mutliples of `multiple`.<br>\n",
    "4.Return list of the possible multiple number(s).<br>"
   ]
  },
  {
   "cell_type": "code",
   "execution_count": 4,
   "id": "cb5caab3",
   "metadata": {},
   "outputs": [],
   "source": [
    "def find_multiples(start_range, end_range, multiple):\n",
    "    result = []\n",
    "    for i in range(start_range, end_range + 1):\n",
    "        if i % multiple == 0:\n",
    "            result.append(i)\n",
    "    return result"
   ]
  },
  {
   "cell_type": "code",
   "execution_count": 5,
   "id": "cad32d94",
   "metadata": {},
   "outputs": [
    {
     "name": "stdout",
     "output_type": "stream",
     "text": [
      "[5, 10, 15, 20]\n",
      "[10, 20, 30, 40, 50]\n"
     ]
    }
   ],
   "source": [
    "print(find_multiples(start_range= 1, end_range= 20, multiple= 5))\n",
    "print(find_multiples(start_range= 1, end_range= 50, multiple= 10))"
   ]
  },
  {
   "cell_type": "markdown",
   "id": "28204ec3",
   "metadata": {},
   "source": [
    "## TASK 3 - Grade Converter\n",
    "\n",
    "Instruction:<br>\n",
    "1.Create function called `Grade_Converter`.<br>\n",
    "2.This function takes input: `convert_to` and n-paired of student(s) name with its respective score.<br>\n",
    "3.Input argument for `convert_to` is either `letter_grade` or `gpa`.<br>\n",
    "4.You can utilize `**kwarg` input argument to generate n-length paired of student(s) name with its respective score (Dictionary).<br>\n",
    "5.This function will return dictionary of student’s name along with converted Letter Grade or GPA, depending on user input in `convert_to` parameter"
   ]
  },
  {
   "cell_type": "code",
   "execution_count": 6,
   "id": "d4487b75",
   "metadata": {},
   "outputs": [],
   "source": [
    "def grade_converter(convert_to, **students_score):\n",
    "    if convert_to == 'gpa':\n",
    "        for key, value in students_score.items():\n",
    "            if value >= 85:\n",
    "                gpa = 4\n",
    "            elif value >= 70:\n",
    "                gpa = 3\n",
    "            elif value >= 60:\n",
    "                gpa = 2.5\n",
    "            elif value >= 50:\n",
    "                gpa = 2\n",
    "            elif value >= 40:\n",
    "                gpa = 1.5\n",
    "            else:\n",
    "                gpa = 1\n",
    "            students_score[key] = gpa\n",
    "    elif convert_to == 'letter_grade':\n",
    "        for key, value in students_score.items():\n",
    "            if value >= 85:\n",
    "                letter = 'A'\n",
    "            elif value >= 70:\n",
    "                letter = 'B'\n",
    "            elif value >= 60:\n",
    "                letter = 'C'\n",
    "            elif value >= 50:\n",
    "                letter = 'D'\n",
    "            elif value >= 40:\n",
    "                letter = 'E'\n",
    "            else:\n",
    "                letter = 'F'\n",
    "            students_score[key] = letter\n",
    "    return students_score"
   ]
  },
  {
   "cell_type": "code",
   "execution_count": 7,
   "id": "1dc2efa1",
   "metadata": {},
   "outputs": [
    {
     "name": "stdout",
     "output_type": "stream",
     "text": [
      "{'Adam': 2.5, 'Faiz': 4}\n",
      "{'Albert': 'A', 'Dwi': 'B', 'Syahdan': 'D', 'Veronica': 'B'}\n"
     ]
    }
   ],
   "source": [
    "print(grade_converter(convert_to='gpa', Adam=62, Faiz=91))\n",
    "print(grade_converter(convert_to='letter_grade', Albert=90, Dwi=82, Syahdan=58, Veronica=84))"
   ]
  },
  {
   "cell_type": "markdown",
   "id": "3e85f220",
   "metadata": {},
   "source": [
    "## TASK 4 - Fibonacci Sequence\n",
    "\n",
    "Instruction:<br>\n",
    "1.The function will take 1 input parameter, `n`, represents the asked number from our fibonacci sequence index.<br>\n",
    "2.The fibonacci sequence will start with the value of 0 and 1.<br>\n",
    "3.This function will return the `n-th` value from fibonacci sequence.\n"
   ]
  },
  {
   "cell_type": "code",
   "execution_count": 8,
   "id": "01b216e3",
   "metadata": {},
   "outputs": [],
   "source": [
    "def fibonacci_function(n):\n",
    "    n1, n2 = 0, 1\n",
    "    listfib = [n1, n2]\n",
    "    for i in range(n):\n",
    "        nth = n1 + n2\n",
    "        listfib.append(nth)\n",
    "        n1 = n2\n",
    "        n2 = nth\n",
    "    return listfib[n]"
   ]
  },
  {
   "cell_type": "code",
   "execution_count": 9,
   "id": "3b5a93d6",
   "metadata": {},
   "outputs": [
    {
     "name": "stdout",
     "output_type": "stream",
     "text": [
      "0\n",
      "3\n",
      "55\n"
     ]
    }
   ],
   "source": [
    "print(fibonacci_function(n=0))\n",
    "print(fibonacci_function(n=4))\n",
    "print(fibonacci_function(n=10))"
   ]
  }
 ],
 "metadata": {
  "kernelspec": {
   "display_name": "Python 3 (ipykernel)",
   "language": "python",
   "name": "python3"
  },
  "language_info": {
   "codemirror_mode": {
    "name": "ipython",
    "version": 3
   },
   "file_extension": ".py",
   "mimetype": "text/x-python",
   "name": "python",
   "nbconvert_exporter": "python",
   "pygments_lexer": "ipython3",
   "version": "3.9.17"
  }
 },
 "nbformat": 4,
 "nbformat_minor": 5
}
