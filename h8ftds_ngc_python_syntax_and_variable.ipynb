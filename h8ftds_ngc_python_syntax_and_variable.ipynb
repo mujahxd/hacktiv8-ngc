{
 "cells": [
  {
   "cell_type": "markdown",
   "id": "6861bf89",
   "metadata": {},
   "source": [
    "## TASK 1"
   ]
  },
  {
   "cell_type": "markdown",
   "id": "52ba3154",
   "metadata": {},
   "source": [
    "Given list of _customer_id_ that doing transaction in 1 day"
   ]
  },
  {
   "cell_type": "code",
   "execution_count": 3,
   "id": "024c3f54",
   "metadata": {},
   "outputs": [],
   "source": [
    "customer_id = ['B818', 'A461', 'A092', 'A082', 'B341', 'A005', 'A092', 'A461',\n",
    "               'B219', 'B904', 'A901', 'A083', 'B904', 'A092', 'B341', 'B821',\n",
    "               'B341', 'B821', 'B904', 'B818', 'A901', 'A083', 'B818', 'A082',\n",
    "               'B219', 'B219', 'A083', 'A901', 'A082', 'B341', 'B341', 'A083',\n",
    "               'A082', 'B219', 'B439', 'A461', 'A005', 'A901', 'B341', 'A082',\n",
    "               'A083', 'A461', 'A083', 'A901', 'A461', 'A083', 'A082', 'A083',\n",
    "               'B341', 'A901', 'A082', 'A461', 'B219', 'A083', 'B818', 'B821',\n",
    "               'A092', 'B341', 'A461', 'A092', 'A083', 'B821', 'A092']"
   ]
  },
  {
   "cell_type": "markdown",
   "id": "dc5808a3",
   "metadata": {},
   "source": [
    "How many unique customer_id from above list?"
   ]
  },
  {
   "cell_type": "code",
   "execution_count": 8,
   "id": "ab93f21f",
   "metadata": {},
   "outputs": [
    {
     "data": {
      "text/plain": [
       "12"
      ]
     },
     "execution_count": 8,
     "metadata": {},
     "output_type": "execute_result"
    }
   ],
   "source": [
    "len(set(customer_id))"
   ]
  },
  {
   "cell_type": "markdown",
   "id": "5f2b9f79",
   "metadata": {},
   "source": [
    "## TASK 2"
   ]
  },
  {
   "cell_type": "markdown",
   "id": "438bca3b",
   "metadata": {},
   "source": [
    "Given list of _data_, use indexing so you can get this output:<br><br>\n",
    "a.16 <br>\n",
    "b.[36, 49, 64, 81] <br>\n",
    "c.[100, 81, 64, 49, 36, 25, 16, 9, 4, 1]\n"
   ]
  },
  {
   "cell_type": "code",
   "execution_count": 9,
   "id": "ad1e6a04",
   "metadata": {},
   "outputs": [],
   "source": [
    "data = [1, 4, 9, 16, 25, 36, 49,  64, 81, 100]"
   ]
  },
  {
   "cell_type": "code",
   "execution_count": 10,
   "id": "60efcef8",
   "metadata": {},
   "outputs": [
    {
     "data": {
      "text/plain": [
       "16"
      ]
     },
     "execution_count": 10,
     "metadata": {},
     "output_type": "execute_result"
    }
   ],
   "source": [
    "point_a = data[3]\n",
    "point_a"
   ]
  },
  {
   "cell_type": "code",
   "execution_count": 12,
   "id": "d85fef00",
   "metadata": {},
   "outputs": [
    {
     "data": {
      "text/plain": [
       "[36, 49, 64, 81]"
      ]
     },
     "execution_count": 12,
     "metadata": {},
     "output_type": "execute_result"
    }
   ],
   "source": [
    "point_b = data[5:-1]\n",
    "point_b"
   ]
  },
  {
   "cell_type": "code",
   "execution_count": 14,
   "id": "524a9a89",
   "metadata": {},
   "outputs": [
    {
     "data": {
      "text/plain": [
       "[100, 81, 64, 49, 36, 25, 16, 9, 4, 1]"
      ]
     },
     "execution_count": 14,
     "metadata": {},
     "output_type": "execute_result"
    }
   ],
   "source": [
    "point_c = data[::-1]\n",
    "point_c"
   ]
  },
  {
   "cell_type": "markdown",
   "id": "5feed0ce",
   "metadata": {},
   "source": [
    "## TASK 3"
   ]
  },
  {
   "cell_type": "markdown",
   "id": "c77302e2",
   "metadata": {},
   "source": [
    "Given a dictionary of _provinsi_, what python command can be use to: <br><br>\n",
    "a.Get list of keys available in dictionary <br>\n",
    "b.Change 'Jawa Timur' value from 'Madiun'  to 'Surabaya'"
   ]
  },
  {
   "cell_type": "code",
   "execution_count": 15,
   "id": "d30b43f1",
   "metadata": {},
   "outputs": [],
   "source": [
    "provinsi = {'Nanggroe Aceh Darussalam': 'Aceh',\n",
    "            'Sumatera Selatan': 'Palembang',\n",
    "            'Kalimantan Barat': 'Pontianak',\n",
    "            'Jawa Timur': 'Madiun',\n",
    "            'Sulawesi Selatan': 'Makassar',\n",
    "            'Maluku': 'Ambon'}"
   ]
  },
  {
   "cell_type": "code",
   "execution_count": 18,
   "id": "7f9396cf",
   "metadata": {},
   "outputs": [
    {
     "data": {
      "text/plain": [
       "['Nanggroe Aceh Darussalam',\n",
       " 'Sumatera Selatan',\n",
       " 'Kalimantan Barat',\n",
       " 'Jawa Timur',\n",
       " 'Sulawesi Selatan',\n",
       " 'Maluku']"
      ]
     },
     "execution_count": 18,
     "metadata": {},
     "output_type": "execute_result"
    }
   ],
   "source": [
    "point_a = list(provinsi.keys())\n",
    "point_a"
   ]
  },
  {
   "cell_type": "code",
   "execution_count": 22,
   "id": "9b4ea022",
   "metadata": {},
   "outputs": [
    {
     "data": {
      "text/plain": [
       "{'Nanggroe Aceh Darussalam': 'Aceh',\n",
       " 'Sumatera Selatan': 'Palembang',\n",
       " 'Kalimantan Barat': 'Pontianak',\n",
       " 'Jawa Timur': 'Surabaya',\n",
       " 'Sulawesi Selatan': 'Makassar',\n",
       " 'Maluku': 'Ambon'}"
      ]
     },
     "execution_count": 22,
     "metadata": {},
     "output_type": "execute_result"
    }
   ],
   "source": [
    "# point b\n",
    "\n",
    "provinsi.update({'Jawa Timur': 'Surabaya'})\n",
    "provinsi"
   ]
  }
 ],
 "metadata": {
  "kernelspec": {
   "display_name": "Python 3 (ipykernel)",
   "language": "python",
   "name": "python3"
  },
  "language_info": {
   "codemirror_mode": {
    "name": "ipython",
    "version": 3
   },
   "file_extension": ".py",
   "mimetype": "text/x-python",
   "name": "python",
   "nbconvert_exporter": "python",
   "pygments_lexer": "ipython3",
   "version": "3.9.17"
  }
 },
 "nbformat": 4,
 "nbformat_minor": 5
}
