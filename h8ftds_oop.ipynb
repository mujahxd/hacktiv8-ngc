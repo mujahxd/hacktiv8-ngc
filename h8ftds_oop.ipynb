{
 "cells": [
  {
   "cell_type": "code",
   "execution_count": 1,
   "id": "d87fde12",
   "metadata": {},
   "outputs": [
    {
     "name": "stdout",
     "output_type": "stream",
     "text": [
      "Added 'Belajar Golang' to the catalog.\n",
      "Added 'Belajar Python v2' to the catalog.\n",
      "Added 'Belajar HTML' to the catalog.\n"
     ]
    }
   ],
   "source": [
    "class Library:\n",
    "    def __init__(self):\n",
    "        self.catalog = []\n",
    "    \n",
    "    def display_books(self):\n",
    "        if not self.catalog:\n",
    "            print(\"The catalog is empty.\")\n",
    "        else:\n",
    "            catalog_str = \"\\n\".join(str(book) for book in self.catalog)\n",
    "            print(f\"Library catalog:\\n{catalog_str}\")\n",
    "    \n",
    "    def add_book(self, book):\n",
    "        self.catalog.append(book)\n",
    "        print(f\"Added '{book.title}' to the catalog.\")\n",
    "    \n",
    "    def search_by_title(self, title):\n",
    "        results = [book for book in self.catalog if title.lower() in book.title.lower()]\n",
    "        if results:\n",
    "            print(f\"Search results for '{title}':\")\n",
    "            for book in results:\n",
    "                print(book)\n",
    "        else:\n",
    "            print(f\"No books found with the title '{title}'.\")\n",
    "    \n",
    "    def search_by_author(self, author):\n",
    "        results = [book for book in self.catalog if author.lower() in book.author.lower()]\n",
    "        if results:\n",
    "            print(f\"Search results for '{author}':\")\n",
    "            for book in results:\n",
    "                print(book)\n",
    "        else:\n",
    "            print(f\"No books found by the author '{author}'.\")\n",
    "    \n",
    "    def remove_book(self, book):\n",
    "        if book in self.catalog:\n",
    "            self.catalog.remove(book)\n",
    "            print(f\"Removed '{book.title}' from the catalog.\")\n",
    "        else:\n",
    "            print(f\"'{book.title}' not found in the catalog.\")\n",
    "    \n",
    "\n",
    "class Book:\n",
    "    def __init__(self, title, author, isbn):\n",
    "        self.title = title\n",
    "        self.author = author\n",
    "        self.isbn = isbn\n",
    "    \n",
    "    def __str__(self):\n",
    "        return f\"{self.title} by {self.author} (ISBN: {self.isbn})\"\n",
    "    \n",
    "\n",
    "if __name__ == \"__main__\":\n",
    "    catalog = Library()\n",
    "\n",
    "    # create instances\n",
    "    book1 = Book(\"Belajar Golang\", \"Mujahid\", \"9780547928227\")\n",
    "    book2 = Book(\"Belajar Python v2\", \"Mujahid\", \"9780747532743\")\n",
    "    book3 = Book(\"Belajar HTML\", \"Ucup\", \"9780451524935\")\n",
    "\n",
    "    # add books to catalog\n",
    "    catalog.add_book(book1)\n",
    "    catalog.add_book(book2)\n",
    "    catalog.add_book(book3)"
   ]
  },
  {
   "cell_type": "code",
   "execution_count": 2,
   "id": "99b9ee9b",
   "metadata": {},
   "outputs": [
    {
     "name": "stdout",
     "output_type": "stream",
     "text": [
      "Library catalog:\n",
      "Belajar Golang by Mujahid (ISBN: 9780547928227)\n",
      "Belajar Python v2 by Mujahid (ISBN: 9780747532743)\n",
      "Belajar HTML by Ucup (ISBN: 9780451524935)\n"
     ]
    }
   ],
   "source": [
    "    # displaying books\n",
    "    catalog.display_books()"
   ]
  },
  {
   "cell_type": "code",
   "execution_count": 3,
   "id": "6b262c9e",
   "metadata": {},
   "outputs": [
    {
     "name": "stdout",
     "output_type": "stream",
     "text": [
      "Search results for 'belajar python v2':\n",
      "Belajar Python v2 by Mujahid (ISBN: 9780747532743)\n"
     ]
    }
   ],
   "source": [
    "    # search by title\n",
    "    catalog.search_by_title(\"belajar python v2\")"
   ]
  },
  {
   "cell_type": "code",
   "execution_count": 4,
   "id": "e8eb475e",
   "metadata": {},
   "outputs": [
    {
     "name": "stdout",
     "output_type": "stream",
     "text": [
      "Search results for 'mujahid':\n",
      "Belajar Golang by Mujahid (ISBN: 9780547928227)\n",
      "Belajar Python v2 by Mujahid (ISBN: 9780747532743)\n"
     ]
    }
   ],
   "source": [
    "    # search by author\n",
    "    catalog.search_by_author(\"mujahid\")"
   ]
  },
  {
   "cell_type": "code",
   "execution_count": 5,
   "id": "d53d605b",
   "metadata": {},
   "outputs": [
    {
     "name": "stdout",
     "output_type": "stream",
     "text": [
      "Removed 'Belajar Python v2' from the catalog.\n"
     ]
    }
   ],
   "source": [
    "    # removing book2\n",
    "    catalog.remove_book(book2)"
   ]
  },
  {
   "cell_type": "code",
   "execution_count": 6,
   "id": "8ff0b829",
   "metadata": {},
   "outputs": [
    {
     "name": "stdout",
     "output_type": "stream",
     "text": [
      "No books found with the title 'belajar python v2'.\n",
      "Library catalog:\n",
      "Belajar Golang by Mujahid (ISBN: 9780547928227)\n",
      "Belajar HTML by Ucup (ISBN: 9780451524935)\n"
     ]
    }
   ],
   "source": [
    "    catalog.search_by_title(\"belajar python v2\")\n",
    "    catalog.display_books()"
   ]
  }
 ],
 "metadata": {
  "kernelspec": {
   "display_name": "Python 3 (ipykernel)",
   "language": "python",
   "name": "python3"
  },
  "language_info": {
   "codemirror_mode": {
    "name": "ipython",
    "version": 3
   },
   "file_extension": ".py",
   "mimetype": "text/x-python",
   "name": "python",
   "nbconvert_exporter": "python",
   "pygments_lexer": "ipython3",
   "version": "3.9.17"
  }
 },
 "nbformat": 4,
 "nbformat_minor": 5
}
